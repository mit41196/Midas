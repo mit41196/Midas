{
 "cells": [
  {
   "cell_type": "markdown",
   "metadata": {},
   "source": [
    "# Importing Libraries"
   ]
  },
  {
   "cell_type": "code",
   "execution_count": 1,
   "metadata": {
    "ExecuteTime": {
     "end_time": "2019-04-03T14:47:54.280183Z",
     "start_time": "2019-04-03T14:46:59.129930Z"
    }
   },
   "outputs": [
    {
     "name": "stderr",
     "output_type": "stream",
     "text": [
      "Using TensorFlow backend.\n"
     ]
    }
   ],
   "source": [
    "import numpy as np\n",
    "import pandas as pd\n",
    "import pickle\n",
    "import cv2\n",
    "import matplotlib.pyplot as plt\n",
    "from keras.utils import to_categorical\n",
    "from sklearn.model_selection import train_test_split\n",
    "from keras.preprocessing.image import ImageDataGenerator\n",
    "from sklearn.preprocessing import LabelBinarizer"
   ]
  },
  {
   "cell_type": "code",
   "execution_count": 2,
   "metadata": {
    "ExecuteTime": {
     "end_time": "2019-04-03T14:47:54.300107Z",
     "start_time": "2019-04-03T14:47:54.280183Z"
    }
   },
   "outputs": [],
   "source": [
    "from keras.models import Sequential\n",
    "from keras.layers.normalization import BatchNormalization\n",
    "from keras.layers.convolutional import Conv2D\n",
    "from keras.layers.convolutional import MaxPooling2D\n",
    "from keras.layers.core import Activation\n",
    "from keras.layers.core import Dropout\n",
    "from keras.layers.core import Dense\n",
    "from keras.layers import Flatten\n",
    "from keras.layers import Input\n",
    "from keras.models import Model\n",
    "from keras.optimizers import Adam\n",
    "from keras.losses import categorical_crossentropy"
   ]
  },
  {
   "cell_type": "code",
   "execution_count": 3,
   "metadata": {
    "ExecuteTime": {
     "end_time": "2019-04-03T14:47:54.452128Z",
     "start_time": "2019-04-03T14:47:54.316103Z"
    }
   },
   "outputs": [],
   "source": [
    "dimension = (28,28)\n",
    "input_shape = (28,28,1)"
   ]
  },
  {
   "cell_type": "markdown",
   "metadata": {
    "ExecuteTime": {
     "end_time": "2019-04-02T20:44:02.124599Z",
     "start_time": "2019-04-02T20:44:02.118604Z"
    }
   },
   "source": [
    "# Data Augmentation"
   ]
  },
  {
   "cell_type": "code",
   "execution_count": 4,
   "metadata": {
    "ExecuteTime": {
     "end_time": "2019-04-03T14:47:57.325872Z",
     "start_time": "2019-04-03T14:47:57.317877Z"
    }
   },
   "outputs": [],
   "source": [
    "def augmentation(X_train, y_train, X_Test, y_test):\n",
    "    \n",
    "    generator = ImageDataGenerator(rotation_range=10, horizontal_flip=True, fill_mode=\"nearest\")\n",
    "    train_batches = generator.flow(X_train, y_train, batch_size=128)\n",
    "#     test_batches = generator.flow(X_Test, y_test, batch_size=256)\n",
    "    \n",
    "    return train_batches"
   ]
  },
  {
   "cell_type": "markdown",
   "metadata": {},
   "source": [
    "# Build Neural Network"
   ]
  },
  {
   "cell_type": "code",
   "execution_count": 5,
   "metadata": {
    "ExecuteTime": {
     "end_time": "2019-04-03T14:47:58.420513Z",
     "start_time": "2019-04-03T14:47:58.412518Z"
    }
   },
   "outputs": [],
   "source": [
    "def build_network(inputs):\n",
    "    \n",
    "    '''--- Simple CNN Architecture ---'''\n",
    "    \n",
    "    # 2D Convolutional layer to extract features by applying filter on the given image\n",
    "    cnn = Sequential()\n",
    "    cnn.add(Conv2D(64, (3, 3), activation='relu', input_shape=inputs))\n",
    "    \n",
    "    # Max Pooling layer to reduce dimensionality and Dropout layer to prevent the model from overfitting\n",
    "    cnn.add(MaxPooling2D(pool_size=(2,2)))\n",
    "    cnn.add(Dropout(0.3))\n",
    "    \n",
    "    # Flatten the current Output produced by previous layers\n",
    "    cnn.add(Flatten())\n",
    "    cnn.add(Dense(128, activation=\"relu\"))\n",
    "    cnn.add(Dropout(0.25))\n",
    "    \n",
    "    # Dense layer to give 4 outputs as 4-class classification\n",
    "    cnn.add(Dense(4, activation=\"softmax\"))\n",
    "    \n",
    "    return cnn"
   ]
  },
  {
   "cell_type": "markdown",
   "metadata": {},
   "source": [
    "# Read Dataset"
   ]
  },
  {
   "cell_type": "code",
   "execution_count": 6,
   "metadata": {
    "ExecuteTime": {
     "end_time": "2019-04-03T14:48:00.892940Z",
     "start_time": "2019-04-03T14:47:59.996964Z"
    }
   },
   "outputs": [],
   "source": [
    "with open('train_image.pkl', 'rb') as f:\n",
    "    train_data = pickle.load(f)\n",
    "    f.close()\n",
    "with open('train_label.pkl', 'rb') as f:\n",
    "    train_label = pickle.load(f)\n",
    "    f.close()\n",
    "with open('test_image.pkl', 'rb') as f:\n",
    "    test_data = pickle.load(f)\n",
    "    f.close()"
   ]
  },
  {
   "cell_type": "markdown",
   "metadata": {},
   "source": [
    "# Convert it into Dataframe"
   ]
  },
  {
   "cell_type": "code",
   "execution_count": 7,
   "metadata": {
    "ExecuteTime": {
     "end_time": "2019-04-03T14:48:05.777312Z",
     "start_time": "2019-04-03T14:48:03.013835Z"
    }
   },
   "outputs": [],
   "source": [
    "train_data = pd.DataFrame(train_data)\n",
    "tests = pd.DataFrame(test_data)\n",
    "train_label = pd.DataFrame(train_label)\n",
    "train = pd.concat([train_data, train_label], axis=1, ignore_index=True).reset_index(drop=True)"
   ]
  },
  {
   "cell_type": "code",
   "execution_count": 8,
   "metadata": {
    "ExecuteTime": {
     "end_time": "2019-04-03T14:48:09.135364Z",
     "start_time": "2019-04-03T14:48:08.206860Z"
    }
   },
   "outputs": [],
   "source": [
    "# Replacing label 6 as 1 for simplicity of output\n",
    "uniq  = np.unique(train_label)\n",
    "train_lbl = train_label.replace(train_label[train_label[:]==6], 1)"
   ]
  },
  {
   "cell_type": "markdown",
   "metadata": {},
   "source": [
    "# Validation Set"
   ]
  },
  {
   "cell_type": "code",
   "execution_count": 9,
   "metadata": {
    "ExecuteTime": {
     "end_time": "2019-04-03T14:48:11.712631Z",
     "start_time": "2019-04-03T14:48:11.422454Z"
    }
   },
   "outputs": [],
   "source": [
    "# Categorize the output labels and Train-Validation Sets are generated!\n",
    "y = LabelBinarizer().fit_transform(train_lbl)\n",
    "X_trains, X_tests, y_train, y_test = train_test_split(train_data, y, test_size=0.2, random_state=13)"
   ]
  },
  {
   "cell_type": "markdown",
   "metadata": {},
   "source": [
    "# Reshaping each array into image so it can fit in the CNN!"
   ]
  },
  {
   "cell_type": "code",
   "execution_count": 10,
   "metadata": {
    "ExecuteTime": {
     "end_time": "2019-04-03T14:48:16.263256Z",
     "start_time": "2019-04-03T14:48:16.255260Z"
    }
   },
   "outputs": [],
   "source": [
    "X_train = X_trains.values\n",
    "X_test = X_tests.values\n",
    "X_train = X_train.reshape(X_train.shape[0], dimension[0], dimension[1],1)\n",
    "X_test = X_test.reshape(X_test.shape[0], dimension[0], dimension[1],1)"
   ]
  },
  {
   "cell_type": "code",
   "execution_count": 11,
   "metadata": {
    "ExecuteTime": {
     "end_time": "2019-04-03T14:48:17.116202Z",
     "start_time": "2019-04-03T14:48:17.092207Z"
    }
   },
   "outputs": [],
   "source": [
    "# Normalize\n",
    "test = tests.values.reshape(tests.shape[0], dimension[0], dimension[1], 1)\n",
    "test = test/255.0"
   ]
  },
  {
   "cell_type": "markdown",
   "metadata": {},
   "source": [
    "# Normalization of all the images"
   ]
  },
  {
   "cell_type": "code",
   "execution_count": 12,
   "metadata": {
    "ExecuteTime": {
     "end_time": "2019-04-03T14:48:18.439205Z",
     "start_time": "2019-04-03T14:48:18.371161Z"
    }
   },
   "outputs": [],
   "source": [
    "X_train = X_train/255.0\n",
    "X_test = X_test/255.0"
   ]
  },
  {
   "cell_type": "markdown",
   "metadata": {},
   "source": [
    "## Augment the train Data"
   ]
  },
  {
   "cell_type": "code",
   "execution_count": 13,
   "metadata": {
    "ExecuteTime": {
     "end_time": "2019-04-03T14:48:21.661934Z",
     "start_time": "2019-04-03T14:48:21.629945Z"
    }
   },
   "outputs": [],
   "source": [
    "train_batch = augmentation(X_train, y_train, X_test, y_test)"
   ]
  },
  {
   "cell_type": "markdown",
   "metadata": {},
   "source": [
    "# build the model"
   ]
  },
  {
   "cell_type": "code",
   "execution_count": 14,
   "metadata": {
    "ExecuteTime": {
     "end_time": "2019-04-03T14:48:25.517879Z",
     "start_time": "2019-04-03T14:48:24.051394Z"
    },
    "collapsed": true
   },
   "outputs": [
    {
     "name": "stdout",
     "output_type": "stream",
     "text": [
      "WARNING:tensorflow:From c:\\python\\lib\\site-packages\\keras\\backend\\tensorflow_backend.py:1264: calling reduce_prod (from tensorflow.python.ops.math_ops) with keep_dims is deprecated and will be removed in a future version.\n",
      "Instructions for updating:\n",
      "keep_dims is deprecated, use keepdims instead\n",
      "_________________________________________________________________\n",
      "Layer (type)                 Output Shape              Param #   \n",
      "=================================================================\n",
      "conv2d_1 (Conv2D)            (None, 26, 26, 64)        640       \n",
      "_________________________________________________________________\n",
      "max_pooling2d_1 (MaxPooling2 (None, 13, 13, 64)        0         \n",
      "_________________________________________________________________\n",
      "dropout_1 (Dropout)          (None, 13, 13, 64)        0         \n",
      "_________________________________________________________________\n",
      "flatten_1 (Flatten)          (None, 10816)             0         \n",
      "_________________________________________________________________\n",
      "dense_1 (Dense)              (None, 128)               1384576   \n",
      "_________________________________________________________________\n",
      "dropout_2 (Dropout)          (None, 128)               0         \n",
      "_________________________________________________________________\n",
      "dense_2 (Dense)              (None, 4)                 516       \n",
      "=================================================================\n",
      "Total params: 1,385,732\n",
      "Trainable params: 1,385,732\n",
      "Non-trainable params: 0\n",
      "_________________________________________________________________\n",
      "WARNING:tensorflow:From c:\\python\\lib\\site-packages\\keras\\backend\\tensorflow_backend.py:2885: calling reduce_sum (from tensorflow.python.ops.math_ops) with keep_dims is deprecated and will be removed in a future version.\n",
      "Instructions for updating:\n",
      "keep_dims is deprecated, use keepdims instead\n",
      "WARNING:tensorflow:From c:\\python\\lib\\site-packages\\keras\\backend\\tensorflow_backend.py:1349: calling reduce_mean (from tensorflow.python.ops.math_ops) with keep_dims is deprecated and will be removed in a future version.\n",
      "Instructions for updating:\n",
      "keep_dims is deprecated, use keepdims instead\n"
     ]
    }
   ],
   "source": [
    "cnn = build_network(input_shape)\n",
    "cnn.summary()\n",
    "opt = Adam(lr=1e-3, decay=1e-3 / 200)\n",
    "cnn.compile(metrics=[\"accuracy\"], optimizer = opt, loss= \"categorical_crossentropy\")"
   ]
  },
  {
   "cell_type": "markdown",
   "metadata": {},
   "source": [
    "## Model is trained on both types of data: Augmented and Without Augmented"
   ]
  },
  {
   "cell_type": "code",
   "execution_count": 15,
   "metadata": {
    "ExecuteTime": {
     "end_time": "2019-04-03T14:52:35.416360Z",
     "start_time": "2019-04-03T14:48:29.885362Z"
    }
   },
   "outputs": [
    {
     "name": "stdout",
     "output_type": "stream",
     "text": [
      "Train on 6400 samples, validate on 1600 samples\n",
      "Epoch 1/20\n",
      "6400/6400 [==============================] - 13s 2ms/step - loss: 0.7344 - acc: 0.6930 - val_loss: 0.5494 - val_acc: 0.7919\n",
      "Epoch 2/20\n",
      "6400/6400 [==============================] - 12s 2ms/step - loss: 0.5096 - acc: 0.8053 - val_loss: 0.4651 - val_acc: 0.8269\n",
      "Epoch 3/20\n",
      "6400/6400 [==============================] - 12s 2ms/step - loss: 0.4398 - acc: 0.8295 - val_loss: 0.4325 - val_acc: 0.8369\n",
      "Epoch 4/20\n",
      "6400/6400 [==============================] - 12s 2ms/step - loss: 0.3997 - acc: 0.8439 - val_loss: 0.4100 - val_acc: 0.8394\n",
      "Epoch 5/20\n",
      "6400/6400 [==============================] - 12s 2ms/step - loss: 0.3738 - acc: 0.8598 - val_loss: 0.3992 - val_acc: 0.8481\n",
      "Epoch 6/20\n",
      "6400/6400 [==============================] - 12s 2ms/step - loss: 0.3453 - acc: 0.8708 - val_loss: 0.3819 - val_acc: 0.8406\n",
      "Epoch 7/20\n",
      "6400/6400 [==============================] - 12s 2ms/step - loss: 0.3347 - acc: 0.8703 - val_loss: 0.3733 - val_acc: 0.8600\n",
      "Epoch 8/20\n",
      "6400/6400 [==============================] - 12s 2ms/step - loss: 0.3155 - acc: 0.8778 - val_loss: 0.4033 - val_acc: 0.8394\n",
      "Epoch 9/20\n",
      "6400/6400 [==============================] - 12s 2ms/step - loss: 0.3022 - acc: 0.8862 - val_loss: 0.3814 - val_acc: 0.8425\n",
      "Epoch 10/20\n",
      "6400/6400 [==============================] - 12s 2ms/step - loss: 0.2865 - acc: 0.8922 - val_loss: 0.3558 - val_acc: 0.8494\n",
      "Epoch 11/20\n",
      "6400/6400 [==============================] - 12s 2ms/step - loss: 0.2656 - acc: 0.8995 - val_loss: 0.3490 - val_acc: 0.8588\n",
      "Epoch 12/20\n",
      "6400/6400 [==============================] - 12s 2ms/step - loss: 0.2622 - acc: 0.8994 - val_loss: 0.3478 - val_acc: 0.8581\n",
      "Epoch 13/20\n",
      "6400/6400 [==============================] - 14s 2ms/step - loss: 0.2422 - acc: 0.9109 - val_loss: 0.3477 - val_acc: 0.8625\n",
      "Epoch 14/20\n",
      "6400/6400 [==============================] - 12s 2ms/step - loss: 0.2340 - acc: 0.9116 - val_loss: 0.3571 - val_acc: 0.8500\n",
      "Epoch 15/20\n",
      "6400/6400 [==============================] - 12s 2ms/step - loss: 0.2246 - acc: 0.9155 - val_loss: 0.3499 - val_acc: 0.8662\n",
      "Epoch 16/20\n",
      "6400/6400 [==============================] - 12s 2ms/step - loss: 0.2117 - acc: 0.9222 - val_loss: 0.3426 - val_acc: 0.8631\n",
      "Epoch 17/20\n",
      "6400/6400 [==============================] - 12s 2ms/step - loss: 0.2079 - acc: 0.9233 - val_loss: 0.3437 - val_acc: 0.8638\n",
      "Epoch 18/20\n",
      "6400/6400 [==============================] - 12s 2ms/step - loss: 0.1971 - acc: 0.9241 - val_loss: 0.3554 - val_acc: 0.8575\n",
      "Epoch 19/20\n",
      "6400/6400 [==============================] - 12s 2ms/step - loss: 0.1889 - acc: 0.9272 - val_loss: 0.3486 - val_acc: 0.8631\n",
      "Epoch 20/20\n",
      "6400/6400 [==============================] - 12s 2ms/step - loss: 0.1865 - acc: 0.9297 - val_loss: 0.3505 - val_acc: 0.8669\n"
     ]
    }
   ],
   "source": [
    "model = cnn.fit(X_train, y_train, batch_size=256, verbose=1, epochs=20, validation_data=(X_test, y_test))"
   ]
  },
  {
   "cell_type": "code",
   "execution_count": 17,
   "metadata": {
    "ExecuteTime": {
     "end_time": "2019-04-03T15:00:16.827238Z",
     "start_time": "2019-04-03T14:53:13.603808Z"
    }
   },
   "outputs": [
    {
     "name": "stdout",
     "output_type": "stream",
     "text": [
      "Epoch 1/30\n",
      "50/50 [==============================] - 14s 277ms/step - loss: 0.3946 - acc: 0.8456 - val_loss: 0.3487 - val_acc: 0.8650\n",
      "Epoch 2/30\n",
      "50/50 [==============================] - 13s 267ms/step - loss: 0.3606 - acc: 0.8575 - val_loss: 0.3815 - val_acc: 0.8531\n",
      "Epoch 3/30\n",
      "50/50 [==============================] - 15s 298ms/step - loss: 0.3495 - acc: 0.8639 - val_loss: 0.3576 - val_acc: 0.8638\n",
      "Epoch 4/30\n",
      "50/50 [==============================] - 15s 308ms/step - loss: 0.3265 - acc: 0.8731 - val_loss: 0.3463 - val_acc: 0.8606\n",
      "Epoch 5/30\n",
      "50/50 [==============================] - 15s 309ms/step - loss: 0.3107 - acc: 0.8756 - val_loss: 0.3395 - val_acc: 0.8544\n",
      "Epoch 6/30\n",
      "50/50 [==============================] - 13s 264ms/step - loss: 0.3016 - acc: 0.8822 - val_loss: 0.3400 - val_acc: 0.8638\n",
      "Epoch 7/30\n",
      "50/50 [==============================] - 13s 267ms/step - loss: 0.3074 - acc: 0.8808 - val_loss: 0.3455 - val_acc: 0.8669\n",
      "Epoch 8/30\n",
      "50/50 [==============================] - 14s 272ms/step - loss: 0.2882 - acc: 0.8822 - val_loss: 0.3500 - val_acc: 0.8588\n",
      "Epoch 9/30\n",
      "50/50 [==============================] - 14s 275ms/step - loss: 0.2821 - acc: 0.8925 - val_loss: 0.3310 - val_acc: 0.8638\n",
      "Epoch 10/30\n",
      "50/50 [==============================] - 14s 282ms/step - loss: 0.2770 - acc: 0.8953 - val_loss: 0.3255 - val_acc: 0.8688\n",
      "Epoch 11/30\n",
      "50/50 [==============================] - 14s 274ms/step - loss: 0.2740 - acc: 0.8934 - val_loss: 0.3271 - val_acc: 0.8681\n",
      "Epoch 12/30\n",
      "50/50 [==============================] - 14s 289ms/step - loss: 0.2761 - acc: 0.8931 - val_loss: 0.3320 - val_acc: 0.8700\n",
      "Epoch 13/30\n",
      "50/50 [==============================] - 16s 315ms/step - loss: 0.2648 - acc: 0.8962 - val_loss: 0.3285 - val_acc: 0.8688\n",
      "Epoch 14/30\n",
      "50/50 [==============================] - 14s 281ms/step - loss: 0.2571 - acc: 0.8991 - val_loss: 0.3402 - val_acc: 0.8731\n",
      "Epoch 15/30\n",
      "50/50 [==============================] - 15s 297ms/step - loss: 0.2587 - acc: 0.8975 - val_loss: 0.3205 - val_acc: 0.8769\n",
      "Epoch 16/30\n",
      "50/50 [==============================] - 15s 295ms/step - loss: 0.2543 - acc: 0.9028 - val_loss: 0.3503 - val_acc: 0.8681\n",
      "Epoch 17/30\n",
      "50/50 [==============================] - 15s 304ms/step - loss: 0.2536 - acc: 0.9005 - val_loss: 0.3303 - val_acc: 0.8781\n",
      "Epoch 18/30\n",
      "50/50 [==============================] - 14s 278ms/step - loss: 0.2460 - acc: 0.9034 - val_loss: 0.3299 - val_acc: 0.8781\n",
      "Epoch 19/30\n",
      "50/50 [==============================] - 13s 264ms/step - loss: 0.2511 - acc: 0.8986 - val_loss: 0.3282 - val_acc: 0.8731\n",
      "Epoch 20/30\n",
      "50/50 [==============================] - 14s 270ms/step - loss: 0.2290 - acc: 0.9097 - val_loss: 0.3358 - val_acc: 0.8738\n",
      "Epoch 21/30\n",
      "50/50 [==============================] - 15s 307ms/step - loss: 0.2333 - acc: 0.9134 - val_loss: 0.3370 - val_acc: 0.8750\n",
      "Epoch 22/30\n",
      "50/50 [==============================] - 14s 285ms/step - loss: 0.2296 - acc: 0.9114 - val_loss: 0.3378 - val_acc: 0.8762\n",
      "Epoch 23/30\n",
      "50/50 [==============================] - 14s 277ms/step - loss: 0.2183 - acc: 0.9134 - val_loss: 0.3329 - val_acc: 0.8794\n",
      "Epoch 24/30\n",
      "50/50 [==============================] - 14s 279ms/step - loss: 0.2240 - acc: 0.9161 - val_loss: 0.3491 - val_acc: 0.8738\n",
      "Epoch 25/30\n",
      "50/50 [==============================] - 14s 270ms/step - loss: 0.2246 - acc: 0.9122 - val_loss: 0.3347 - val_acc: 0.8806\n",
      "Epoch 26/30\n",
      "50/50 [==============================] - 13s 269ms/step - loss: 0.2123 - acc: 0.9178 - val_loss: 0.3514 - val_acc: 0.8700\n",
      "Epoch 27/30\n",
      "50/50 [==============================] - 14s 271ms/step - loss: 0.2097 - acc: 0.9184 - val_loss: 0.3464 - val_acc: 0.8744\n",
      "Epoch 28/30\n",
      "50/50 [==============================] - 13s 268ms/step - loss: 0.2141 - acc: 0.9214 - val_loss: 0.3397 - val_acc: 0.8769\n",
      "Epoch 29/30\n",
      "50/50 [==============================] - 14s 273ms/step - loss: 0.1989 - acc: 0.9225 - val_loss: 0.3574 - val_acc: 0.8712\n",
      "Epoch 30/30\n",
      "50/50 [==============================] - 13s 270ms/step - loss: 0.1973 - acc: 0.9234 - val_loss: 0.3559 - val_acc: 0.8712\n"
     ]
    }
   ],
   "source": [
    "model = cnn.fit_generator(train_batch, steps_per_epoch=6400//128, epochs=30,validation_data=(X_test, y_test), validation_steps=1600//128)"
   ]
  },
  {
   "cell_type": "markdown",
   "metadata": {},
   "source": [
    "# Measure Performance on the Whole Training Set"
   ]
  },
  {
   "cell_type": "code",
   "execution_count": 18,
   "metadata": {
    "ExecuteTime": {
     "end_time": "2019-04-03T15:00:24.182099Z",
     "start_time": "2019-04-03T15:00:20.931303Z"
    }
   },
   "outputs": [
    {
     "name": "stdout",
     "output_type": "stream",
     "text": [
      "Training Loss: 0.10054780232720077\n",
      "Training Accuracy: 0.965625\n"
     ]
    }
   ],
   "source": [
    "score = cnn.evaluate(X_train, y_train, verbose=0)\n",
    "print('Training Loss:', score[0])\n",
    "print('Training Accuracy:', score[1])"
   ]
  },
  {
   "cell_type": "markdown",
   "metadata": {},
   "source": [
    "# Predict Classes for the Test Set"
   ]
  },
  {
   "cell_type": "code",
   "execution_count": 19,
   "metadata": {
    "ExecuteTime": {
     "end_time": "2019-04-03T15:00:34.835047Z",
     "start_time": "2019-04-03T15:00:33.872593Z"
    }
   },
   "outputs": [],
   "source": [
    "predicted_classes = cnn.predict_classes(test)"
   ]
  },
  {
   "cell_type": "code",
   "execution_count": 20,
   "metadata": {
    "ExecuteTime": {
     "end_time": "2019-04-03T15:00:36.427464Z",
     "start_time": "2019-04-03T15:00:36.339128Z"
    }
   },
   "outputs": [],
   "source": [
    "# Replace with its original label i.e., 1 is replaced with 6\n",
    "x = pd.DataFrame(predicted_classes)\n",
    "u = x.replace(x[x[:]==1], 6)"
   ]
  },
  {
   "cell_type": "code",
   "execution_count": 21,
   "metadata": {
    "ExecuteTime": {
     "end_time": "2019-04-03T15:00:38.903069Z",
     "start_time": "2019-04-03T15:00:38.839059Z"
    }
   },
   "outputs": [],
   "source": [
    "# Write results into csv file\n",
    "u.to_csv(\"Meet_Shah.csv\")"
   ]
  },
  {
   "cell_type": "code",
   "execution_count": 22,
   "metadata": {
    "ExecuteTime": {
     "end_time": "2019-04-03T15:00:43.084735Z",
     "start_time": "2019-04-03T15:00:43.064739Z"
    },
    "collapsed": true
   },
   "outputs": [
    {
     "data": {
      "text/html": [
       "<div>\n",
       "<style scoped>\n",
       "    .dataframe tbody tr th:only-of-type {\n",
       "        vertical-align: middle;\n",
       "    }\n",
       "\n",
       "    .dataframe tbody tr th {\n",
       "        vertical-align: top;\n",
       "    }\n",
       "\n",
       "    .dataframe thead th {\n",
       "        text-align: right;\n",
       "    }\n",
       "</style>\n",
       "<table border=\"1\" class=\"dataframe\">\n",
       "  <thead>\n",
       "    <tr style=\"text-align: right;\">\n",
       "      <th></th>\n",
       "      <th>0</th>\n",
       "    </tr>\n",
       "  </thead>\n",
       "  <tbody>\n",
       "    <tr>\n",
       "      <th>0</th>\n",
       "      <td>0</td>\n",
       "    </tr>\n",
       "    <tr>\n",
       "      <th>1</th>\n",
       "      <td>0</td>\n",
       "    </tr>\n",
       "    <tr>\n",
       "      <th>2</th>\n",
       "      <td>0</td>\n",
       "    </tr>\n",
       "    <tr>\n",
       "      <th>3</th>\n",
       "      <td>0</td>\n",
       "    </tr>\n",
       "    <tr>\n",
       "      <th>4</th>\n",
       "      <td>0</td>\n",
       "    </tr>\n",
       "    <tr>\n",
       "      <th>5</th>\n",
       "      <td>0</td>\n",
       "    </tr>\n",
       "    <tr>\n",
       "      <th>6</th>\n",
       "      <td>0</td>\n",
       "    </tr>\n",
       "    <tr>\n",
       "      <th>7</th>\n",
       "      <td>0</td>\n",
       "    </tr>\n",
       "    <tr>\n",
       "      <th>8</th>\n",
       "      <td>0</td>\n",
       "    </tr>\n",
       "    <tr>\n",
       "      <th>9</th>\n",
       "      <td>0</td>\n",
       "    </tr>\n",
       "    <tr>\n",
       "      <th>10</th>\n",
       "      <td>0</td>\n",
       "    </tr>\n",
       "    <tr>\n",
       "      <th>11</th>\n",
       "      <td>0</td>\n",
       "    </tr>\n",
       "    <tr>\n",
       "      <th>12</th>\n",
       "      <td>0</td>\n",
       "    </tr>\n",
       "    <tr>\n",
       "      <th>13</th>\n",
       "      <td>0</td>\n",
       "    </tr>\n",
       "    <tr>\n",
       "      <th>14</th>\n",
       "      <td>0</td>\n",
       "    </tr>\n",
       "    <tr>\n",
       "      <th>15</th>\n",
       "      <td>0</td>\n",
       "    </tr>\n",
       "    <tr>\n",
       "      <th>16</th>\n",
       "      <td>0</td>\n",
       "    </tr>\n",
       "    <tr>\n",
       "      <th>17</th>\n",
       "      <td>0</td>\n",
       "    </tr>\n",
       "    <tr>\n",
       "      <th>18</th>\n",
       "      <td>0</td>\n",
       "    </tr>\n",
       "    <tr>\n",
       "      <th>19</th>\n",
       "      <td>0</td>\n",
       "    </tr>\n",
       "    <tr>\n",
       "      <th>20</th>\n",
       "      <td>0</td>\n",
       "    </tr>\n",
       "    <tr>\n",
       "      <th>21</th>\n",
       "      <td>0</td>\n",
       "    </tr>\n",
       "    <tr>\n",
       "      <th>22</th>\n",
       "      <td>0</td>\n",
       "    </tr>\n",
       "    <tr>\n",
       "      <th>23</th>\n",
       "      <td>0</td>\n",
       "    </tr>\n",
       "    <tr>\n",
       "      <th>24</th>\n",
       "      <td>0</td>\n",
       "    </tr>\n",
       "    <tr>\n",
       "      <th>25</th>\n",
       "      <td>0</td>\n",
       "    </tr>\n",
       "    <tr>\n",
       "      <th>26</th>\n",
       "      <td>0</td>\n",
       "    </tr>\n",
       "    <tr>\n",
       "      <th>27</th>\n",
       "      <td>0</td>\n",
       "    </tr>\n",
       "    <tr>\n",
       "      <th>28</th>\n",
       "      <td>0</td>\n",
       "    </tr>\n",
       "    <tr>\n",
       "      <th>29</th>\n",
       "      <td>0</td>\n",
       "    </tr>\n",
       "    <tr>\n",
       "      <th>...</th>\n",
       "      <td>...</td>\n",
       "    </tr>\n",
       "    <tr>\n",
       "      <th>1970</th>\n",
       "      <td>6</td>\n",
       "    </tr>\n",
       "    <tr>\n",
       "      <th>1971</th>\n",
       "      <td>6</td>\n",
       "    </tr>\n",
       "    <tr>\n",
       "      <th>1972</th>\n",
       "      <td>6</td>\n",
       "    </tr>\n",
       "    <tr>\n",
       "      <th>1973</th>\n",
       "      <td>0</td>\n",
       "    </tr>\n",
       "    <tr>\n",
       "      <th>1974</th>\n",
       "      <td>0</td>\n",
       "    </tr>\n",
       "    <tr>\n",
       "      <th>1975</th>\n",
       "      <td>6</td>\n",
       "    </tr>\n",
       "    <tr>\n",
       "      <th>1976</th>\n",
       "      <td>6</td>\n",
       "    </tr>\n",
       "    <tr>\n",
       "      <th>1977</th>\n",
       "      <td>6</td>\n",
       "    </tr>\n",
       "    <tr>\n",
       "      <th>1978</th>\n",
       "      <td>6</td>\n",
       "    </tr>\n",
       "    <tr>\n",
       "      <th>1979</th>\n",
       "      <td>6</td>\n",
       "    </tr>\n",
       "    <tr>\n",
       "      <th>1980</th>\n",
       "      <td>6</td>\n",
       "    </tr>\n",
       "    <tr>\n",
       "      <th>1981</th>\n",
       "      <td>6</td>\n",
       "    </tr>\n",
       "    <tr>\n",
       "      <th>1982</th>\n",
       "      <td>6</td>\n",
       "    </tr>\n",
       "    <tr>\n",
       "      <th>1983</th>\n",
       "      <td>6</td>\n",
       "    </tr>\n",
       "    <tr>\n",
       "      <th>1984</th>\n",
       "      <td>3</td>\n",
       "    </tr>\n",
       "    <tr>\n",
       "      <th>1985</th>\n",
       "      <td>6</td>\n",
       "    </tr>\n",
       "    <tr>\n",
       "      <th>1986</th>\n",
       "      <td>6</td>\n",
       "    </tr>\n",
       "    <tr>\n",
       "      <th>1987</th>\n",
       "      <td>6</td>\n",
       "    </tr>\n",
       "    <tr>\n",
       "      <th>1988</th>\n",
       "      <td>6</td>\n",
       "    </tr>\n",
       "    <tr>\n",
       "      <th>1989</th>\n",
       "      <td>6</td>\n",
       "    </tr>\n",
       "    <tr>\n",
       "      <th>1990</th>\n",
       "      <td>6</td>\n",
       "    </tr>\n",
       "    <tr>\n",
       "      <th>1991</th>\n",
       "      <td>0</td>\n",
       "    </tr>\n",
       "    <tr>\n",
       "      <th>1992</th>\n",
       "      <td>6</td>\n",
       "    </tr>\n",
       "    <tr>\n",
       "      <th>1993</th>\n",
       "      <td>6</td>\n",
       "    </tr>\n",
       "    <tr>\n",
       "      <th>1994</th>\n",
       "      <td>6</td>\n",
       "    </tr>\n",
       "    <tr>\n",
       "      <th>1995</th>\n",
       "      <td>6</td>\n",
       "    </tr>\n",
       "    <tr>\n",
       "      <th>1996</th>\n",
       "      <td>6</td>\n",
       "    </tr>\n",
       "    <tr>\n",
       "      <th>1997</th>\n",
       "      <td>6</td>\n",
       "    </tr>\n",
       "    <tr>\n",
       "      <th>1998</th>\n",
       "      <td>6</td>\n",
       "    </tr>\n",
       "    <tr>\n",
       "      <th>1999</th>\n",
       "      <td>6</td>\n",
       "    </tr>\n",
       "  </tbody>\n",
       "</table>\n",
       "<p>2000 rows × 1 columns</p>\n",
       "</div>"
      ],
      "text/plain": [
       "      0\n",
       "0     0\n",
       "1     0\n",
       "2     0\n",
       "3     0\n",
       "4     0\n",
       "5     0\n",
       "6     0\n",
       "7     0\n",
       "8     0\n",
       "9     0\n",
       "10    0\n",
       "11    0\n",
       "12    0\n",
       "13    0\n",
       "14    0\n",
       "15    0\n",
       "16    0\n",
       "17    0\n",
       "18    0\n",
       "19    0\n",
       "20    0\n",
       "21    0\n",
       "22    0\n",
       "23    0\n",
       "24    0\n",
       "25    0\n",
       "26    0\n",
       "27    0\n",
       "28    0\n",
       "29    0\n",
       "...  ..\n",
       "1970  6\n",
       "1971  6\n",
       "1972  6\n",
       "1973  0\n",
       "1974  0\n",
       "1975  6\n",
       "1976  6\n",
       "1977  6\n",
       "1978  6\n",
       "1979  6\n",
       "1980  6\n",
       "1981  6\n",
       "1982  6\n",
       "1983  6\n",
       "1984  3\n",
       "1985  6\n",
       "1986  6\n",
       "1987  6\n",
       "1988  6\n",
       "1989  6\n",
       "1990  6\n",
       "1991  0\n",
       "1992  6\n",
       "1993  6\n",
       "1994  6\n",
       "1995  6\n",
       "1996  6\n",
       "1997  6\n",
       "1998  6\n",
       "1999  6\n",
       "\n",
       "[2000 rows x 1 columns]"
      ]
     },
     "execution_count": 22,
     "metadata": {},
     "output_type": "execute_result"
    }
   ],
   "source": [
    "u"
   ]
  },
  {
   "cell_type": "code",
   "execution_count": null,
   "metadata": {},
   "outputs": [],
   "source": []
  }
 ],
 "metadata": {
  "kernelspec": {
   "display_name": "Python 3",
   "language": "python",
   "name": "python3"
  },
  "language_info": {
   "codemirror_mode": {
    "name": "ipython",
    "version": 3
   },
   "file_extension": ".py",
   "mimetype": "text/x-python",
   "name": "python",
   "nbconvert_exporter": "python",
   "pygments_lexer": "ipython3",
   "version": "3.6.1"
  }
 },
 "nbformat": 4,
 "nbformat_minor": 2
}
